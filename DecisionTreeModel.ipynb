{
  "nbformat": 4,
  "nbformat_minor": 0,
  "metadata": {
    "colab": {
      "name": "DecisionTreeModel.ipynb",
      "provenance": [],
      "collapsed_sections": [],
      "toc_visible": true,
      "authorship_tag": "ABX9TyNpOgdoa9ic6IHf6VOM74v5",
      "include_colab_link": true
    },
    "kernelspec": {
      "name": "python3",
      "display_name": "Python 3"
    },
    "language_info": {
      "name": "python"
    }
  },
  "cells": [
    {
      "cell_type": "markdown",
      "metadata": {
        "id": "view-in-github",
        "colab_type": "text"
      },
      "source": [
        "<a href=\"https://colab.research.google.com/github/avashs/SDSS-Decision-Tree/blob/main/DecisionTreeModel.ipynb\" target=\"_parent\"><img src=\"https://colab.research.google.com/assets/colab-badge.svg\" alt=\"Open In Colab\"/></a>"
      ]
    },
    {
      "cell_type": "code",
      "metadata": {
        "colab": {
          "base_uri": "https://localhost:8080/"
        },
        "id": "8CHyRROfdFWA",
        "outputId": "0ece6339-a7a5-47e8-905c-626e840adad9"
      },
      "source": [
        "#### model to determine star,galaxy or quasar using decision tree model\n",
        "import pandas as pd\n",
        "import numpy as np\n",
        "\n",
        "\n",
        "def load_SDSS_data():\n",
        "    url = 'https://raw.githubusercontent.com/avashs/SDSS-Decision-Tree/main/Skyserver_SQL2_27_2018%206_51_39%20PM.csv'\n",
        "    df1 = pd.read_csv(url)\n",
        "    return df1\n",
        "\n",
        "SDSS = load_SDSS_data()\n",
        "SDSS.info()"
      ],
      "execution_count": null,
      "outputs": [
        {
          "output_type": "stream",
          "text": [
            "<class 'pandas.core.frame.DataFrame'>\n",
            "RangeIndex: 10000 entries, 0 to 9999\n",
            "Data columns (total 18 columns):\n",
            " #   Column     Non-Null Count  Dtype  \n",
            "---  ------     --------------  -----  \n",
            " 0   objid      10000 non-null  float64\n",
            " 1   ra         10000 non-null  float64\n",
            " 2   dec        10000 non-null  float64\n",
            " 3   u          10000 non-null  float64\n",
            " 4   g          10000 non-null  float64\n",
            " 5   r          10000 non-null  float64\n",
            " 6   i          10000 non-null  float64\n",
            " 7   z          10000 non-null  float64\n",
            " 8   run        10000 non-null  int64  \n",
            " 9   rerun      10000 non-null  int64  \n",
            " 10  camcol     10000 non-null  int64  \n",
            " 11  field      10000 non-null  int64  \n",
            " 12  specobjid  10000 non-null  float64\n",
            " 13  class      10000 non-null  object \n",
            " 14  redshift   10000 non-null  float64\n",
            " 15  plate      10000 non-null  int64  \n",
            " 16  mjd        10000 non-null  int64  \n",
            " 17  fiberid    10000 non-null  int64  \n",
            "dtypes: float64(10), int64(7), object(1)\n",
            "memory usage: 1.4+ MB\n"
          ],
          "name": "stdout"
        }
      ]
    },
    {
      "cell_type": "markdown",
      "metadata": {
        "id": "lpBVMvpoem2X"
      },
      "source": [
        "Ra - right ascension, the data that gives the position of east to west in celestial sphere\n",
        "dec - declination, the data that give the position of north -south in celestial sphere\n",
        "u - ultraviolet light\n",
        "g - green light\n",
        "r - red light\n",
        "i - near infrared\n",
        "z - infrared \n",
        "\n",
        "run = Run Number\n",
        "rereun = Rerun Number\n",
        "camcol = Camera column\n",
        "field = Field number\n",
        "specobjid = Object Identifier\n",
        "class = object class (galaxy, star or quasar object)\n",
        "redshift = Final Redshift\n",
        "plate = plate number\n",
        "mjd = MJD of observation\n",
        "fiberid = fiber ID\n",
        "\n",
        "all values are not null values. So there is no need to cleanup the data to drop the null values.\n",
        "The objid and spacejid are identifier values which are not needed for the model to train. \n",
        "The class  distinguishes whether they are galaxy, star or quasar. They are object type and need to be converted to numerical value for model to use it. \n"
      ]
    },
    {
      "cell_type": "code",
      "metadata": {
        "colab": {
          "base_uri": "https://localhost:8080/",
          "height": 286
        },
        "id": "cFi8ldmWeCCK",
        "outputId": "27f31b0e-1d0b-476a-fcb0-6964a0e6d2f7"
      },
      "source": [
        "SDSS.describe()"
      ],
      "execution_count": null,
      "outputs": [
        {
          "output_type": "execute_result",
          "data": {
            "text/html": [
              "<div>\n",
              "<style scoped>\n",
              "    .dataframe tbody tr th:only-of-type {\n",
              "        vertical-align: middle;\n",
              "    }\n",
              "\n",
              "    .dataframe tbody tr th {\n",
              "        vertical-align: top;\n",
              "    }\n",
              "\n",
              "    .dataframe thead th {\n",
              "        text-align: right;\n",
              "    }\n",
              "</style>\n",
              "<table border=\"1\" class=\"dataframe\">\n",
              "  <thead>\n",
              "    <tr style=\"text-align: right;\">\n",
              "      <th></th>\n",
              "      <th>objid</th>\n",
              "      <th>ra</th>\n",
              "      <th>dec</th>\n",
              "      <th>u</th>\n",
              "      <th>g</th>\n",
              "      <th>r</th>\n",
              "      <th>i</th>\n",
              "      <th>z</th>\n",
              "      <th>run</th>\n",
              "      <th>rerun</th>\n",
              "      <th>camcol</th>\n",
              "      <th>field</th>\n",
              "      <th>specobjid</th>\n",
              "      <th>redshift</th>\n",
              "      <th>plate</th>\n",
              "      <th>mjd</th>\n",
              "      <th>fiberid</th>\n",
              "    </tr>\n",
              "  </thead>\n",
              "  <tbody>\n",
              "    <tr>\n",
              "      <th>count</th>\n",
              "      <td>1.000000e+04</td>\n",
              "      <td>10000.000000</td>\n",
              "      <td>10000.000000</td>\n",
              "      <td>10000.000000</td>\n",
              "      <td>10000.000000</td>\n",
              "      <td>10000.000000</td>\n",
              "      <td>10000.000000</td>\n",
              "      <td>10000.000000</td>\n",
              "      <td>10000.000000</td>\n",
              "      <td>10000.0</td>\n",
              "      <td>10000.000000</td>\n",
              "      <td>10000.000000</td>\n",
              "      <td>1.000000e+04</td>\n",
              "      <td>10000.000000</td>\n",
              "      <td>10000.000000</td>\n",
              "      <td>10000.000000</td>\n",
              "      <td>10000.000000</td>\n",
              "    </tr>\n",
              "    <tr>\n",
              "      <th>mean</th>\n",
              "      <td>1.237650e+18</td>\n",
              "      <td>175.529987</td>\n",
              "      <td>14.836148</td>\n",
              "      <td>18.619355</td>\n",
              "      <td>17.371931</td>\n",
              "      <td>16.840963</td>\n",
              "      <td>16.583579</td>\n",
              "      <td>16.422833</td>\n",
              "      <td>981.034800</td>\n",
              "      <td>301.0</td>\n",
              "      <td>3.648700</td>\n",
              "      <td>302.380100</td>\n",
              "      <td>1.645022e+18</td>\n",
              "      <td>0.143726</td>\n",
              "      <td>1460.986400</td>\n",
              "      <td>52943.533300</td>\n",
              "      <td>353.069400</td>\n",
              "    </tr>\n",
              "    <tr>\n",
              "      <th>std</th>\n",
              "      <td>1.577039e+05</td>\n",
              "      <td>47.783439</td>\n",
              "      <td>25.212207</td>\n",
              "      <td>0.828656</td>\n",
              "      <td>0.945457</td>\n",
              "      <td>1.067764</td>\n",
              "      <td>1.141805</td>\n",
              "      <td>1.203188</td>\n",
              "      <td>273.305024</td>\n",
              "      <td>0.0</td>\n",
              "      <td>1.666183</td>\n",
              "      <td>162.577763</td>\n",
              "      <td>2.013998e+18</td>\n",
              "      <td>0.388774</td>\n",
              "      <td>1788.778371</td>\n",
              "      <td>1511.150651</td>\n",
              "      <td>206.298149</td>\n",
              "    </tr>\n",
              "    <tr>\n",
              "      <th>min</th>\n",
              "      <td>1.237650e+18</td>\n",
              "      <td>8.235100</td>\n",
              "      <td>-5.382632</td>\n",
              "      <td>12.988970</td>\n",
              "      <td>12.799550</td>\n",
              "      <td>12.431600</td>\n",
              "      <td>11.947210</td>\n",
              "      <td>11.610410</td>\n",
              "      <td>308.000000</td>\n",
              "      <td>301.0</td>\n",
              "      <td>1.000000</td>\n",
              "      <td>11.000000</td>\n",
              "      <td>2.995780e+17</td>\n",
              "      <td>-0.004136</td>\n",
              "      <td>266.000000</td>\n",
              "      <td>51578.000000</td>\n",
              "      <td>1.000000</td>\n",
              "    </tr>\n",
              "    <tr>\n",
              "      <th>25%</th>\n",
              "      <td>1.237650e+18</td>\n",
              "      <td>157.370946</td>\n",
              "      <td>-0.539035</td>\n",
              "      <td>18.178035</td>\n",
              "      <td>16.815100</td>\n",
              "      <td>16.173333</td>\n",
              "      <td>15.853705</td>\n",
              "      <td>15.618285</td>\n",
              "      <td>752.000000</td>\n",
              "      <td>301.0</td>\n",
              "      <td>2.000000</td>\n",
              "      <td>184.000000</td>\n",
              "      <td>3.389248e+17</td>\n",
              "      <td>0.000081</td>\n",
              "      <td>301.000000</td>\n",
              "      <td>51900.000000</td>\n",
              "      <td>186.750000</td>\n",
              "    </tr>\n",
              "    <tr>\n",
              "      <th>50%</th>\n",
              "      <td>1.237650e+18</td>\n",
              "      <td>180.394514</td>\n",
              "      <td>0.404166</td>\n",
              "      <td>18.853095</td>\n",
              "      <td>17.495135</td>\n",
              "      <td>16.858770</td>\n",
              "      <td>16.554985</td>\n",
              "      <td>16.389945</td>\n",
              "      <td>756.000000</td>\n",
              "      <td>301.0</td>\n",
              "      <td>4.000000</td>\n",
              "      <td>299.000000</td>\n",
              "      <td>4.966580e+17</td>\n",
              "      <td>0.042591</td>\n",
              "      <td>441.000000</td>\n",
              "      <td>51997.000000</td>\n",
              "      <td>351.000000</td>\n",
              "    </tr>\n",
              "    <tr>\n",
              "      <th>75%</th>\n",
              "      <td>1.237650e+18</td>\n",
              "      <td>201.547279</td>\n",
              "      <td>35.649397</td>\n",
              "      <td>19.259232</td>\n",
              "      <td>18.010145</td>\n",
              "      <td>17.512675</td>\n",
              "      <td>17.258550</td>\n",
              "      <td>17.141447</td>\n",
              "      <td>1331.000000</td>\n",
              "      <td>301.0</td>\n",
              "      <td>5.000000</td>\n",
              "      <td>414.000000</td>\n",
              "      <td>2.881300e+18</td>\n",
              "      <td>0.092579</td>\n",
              "      <td>2559.000000</td>\n",
              "      <td>54468.000000</td>\n",
              "      <td>510.000000</td>\n",
              "    </tr>\n",
              "    <tr>\n",
              "      <th>max</th>\n",
              "      <td>1.237650e+18</td>\n",
              "      <td>260.884382</td>\n",
              "      <td>68.542265</td>\n",
              "      <td>19.599900</td>\n",
              "      <td>19.918970</td>\n",
              "      <td>24.802040</td>\n",
              "      <td>28.179630</td>\n",
              "      <td>22.833060</td>\n",
              "      <td>1412.000000</td>\n",
              "      <td>301.0</td>\n",
              "      <td>6.000000</td>\n",
              "      <td>768.000000</td>\n",
              "      <td>9.468830e+18</td>\n",
              "      <td>5.353854</td>\n",
              "      <td>8410.000000</td>\n",
              "      <td>57481.000000</td>\n",
              "      <td>1000.000000</td>\n",
              "    </tr>\n",
              "  </tbody>\n",
              "</table>\n",
              "</div>"
            ],
            "text/plain": [
              "              objid            ra  ...           mjd       fiberid\n",
              "count  1.000000e+04  10000.000000  ...  10000.000000  10000.000000\n",
              "mean   1.237650e+18    175.529987  ...  52943.533300    353.069400\n",
              "std    1.577039e+05     47.783439  ...   1511.150651    206.298149\n",
              "min    1.237650e+18      8.235100  ...  51578.000000      1.000000\n",
              "25%    1.237650e+18    157.370946  ...  51900.000000    186.750000\n",
              "50%    1.237650e+18    180.394514  ...  51997.000000    351.000000\n",
              "75%    1.237650e+18    201.547279  ...  54468.000000    510.000000\n",
              "max    1.237650e+18    260.884382  ...  57481.000000   1000.000000\n",
              "\n",
              "[8 rows x 17 columns]"
            ]
          },
          "metadata": {
            "tags": []
          },
          "execution_count": 23
        }
      ]
    },
    {
      "cell_type": "code",
      "metadata": {
        "colab": {
          "base_uri": "https://localhost:8080/"
        },
        "id": "AmQYP8rmgXrP",
        "outputId": "3cc5f36f-fd22-4a4a-a91c-882c27f98d6d"
      },
      "source": [
        "import matplotlib.pyplot as plt\n",
        "SDSS['class'].value_counts()"
      ],
      "execution_count": null,
      "outputs": [
        {
          "output_type": "execute_result",
          "data": {
            "text/plain": [
              "GALAXY    4998\n",
              "STAR      4152\n",
              "QSO        850\n",
              "Name: class, dtype: int64"
            ]
          },
          "metadata": {
            "tags": []
          },
          "execution_count": 24
        }
      ]
    },
    {
      "cell_type": "markdown",
      "metadata": {
        "id": "rB3jLyVVcubT"
      },
      "source": [
        "Here we look through the data to see if there are any fields that have values. We know that the objid and spacejid are not useful since they are identifier only. "
      ]
    },
    {
      "cell_type": "code",
      "metadata": {
        "colab": {
          "base_uri": "https://localhost:8080/",
          "height": 286
        },
        "id": "hELLJna7kv6b",
        "outputId": "9fb2c8e9-998b-4164-9e2a-4b5cd3a04392"
      },
      "source": [
        "data = SDSS.drop(\"objid\",axis = 1)\n",
        "data = data.drop(\"specobjid\",axis = 1)\n",
        "data.describe()"
      ],
      "execution_count": null,
      "outputs": [
        {
          "output_type": "execute_result",
          "data": {
            "text/html": [
              "<div>\n",
              "<style scoped>\n",
              "    .dataframe tbody tr th:only-of-type {\n",
              "        vertical-align: middle;\n",
              "    }\n",
              "\n",
              "    .dataframe tbody tr th {\n",
              "        vertical-align: top;\n",
              "    }\n",
              "\n",
              "    .dataframe thead th {\n",
              "        text-align: right;\n",
              "    }\n",
              "</style>\n",
              "<table border=\"1\" class=\"dataframe\">\n",
              "  <thead>\n",
              "    <tr style=\"text-align: right;\">\n",
              "      <th></th>\n",
              "      <th>ra</th>\n",
              "      <th>dec</th>\n",
              "      <th>u</th>\n",
              "      <th>g</th>\n",
              "      <th>r</th>\n",
              "      <th>i</th>\n",
              "      <th>z</th>\n",
              "      <th>run</th>\n",
              "      <th>rerun</th>\n",
              "      <th>camcol</th>\n",
              "      <th>field</th>\n",
              "      <th>redshift</th>\n",
              "      <th>plate</th>\n",
              "      <th>mjd</th>\n",
              "      <th>fiberid</th>\n",
              "    </tr>\n",
              "  </thead>\n",
              "  <tbody>\n",
              "    <tr>\n",
              "      <th>count</th>\n",
              "      <td>10000.000000</td>\n",
              "      <td>10000.000000</td>\n",
              "      <td>10000.000000</td>\n",
              "      <td>10000.000000</td>\n",
              "      <td>10000.000000</td>\n",
              "      <td>10000.000000</td>\n",
              "      <td>10000.000000</td>\n",
              "      <td>10000.000000</td>\n",
              "      <td>10000.0</td>\n",
              "      <td>10000.000000</td>\n",
              "      <td>10000.000000</td>\n",
              "      <td>10000.000000</td>\n",
              "      <td>10000.000000</td>\n",
              "      <td>10000.000000</td>\n",
              "      <td>10000.000000</td>\n",
              "    </tr>\n",
              "    <tr>\n",
              "      <th>mean</th>\n",
              "      <td>175.529987</td>\n",
              "      <td>14.836148</td>\n",
              "      <td>18.619355</td>\n",
              "      <td>17.371931</td>\n",
              "      <td>16.840963</td>\n",
              "      <td>16.583579</td>\n",
              "      <td>16.422833</td>\n",
              "      <td>981.034800</td>\n",
              "      <td>301.0</td>\n",
              "      <td>3.648700</td>\n",
              "      <td>302.380100</td>\n",
              "      <td>0.143726</td>\n",
              "      <td>1460.986400</td>\n",
              "      <td>52943.533300</td>\n",
              "      <td>353.069400</td>\n",
              "    </tr>\n",
              "    <tr>\n",
              "      <th>std</th>\n",
              "      <td>47.783439</td>\n",
              "      <td>25.212207</td>\n",
              "      <td>0.828656</td>\n",
              "      <td>0.945457</td>\n",
              "      <td>1.067764</td>\n",
              "      <td>1.141805</td>\n",
              "      <td>1.203188</td>\n",
              "      <td>273.305024</td>\n",
              "      <td>0.0</td>\n",
              "      <td>1.666183</td>\n",
              "      <td>162.577763</td>\n",
              "      <td>0.388774</td>\n",
              "      <td>1788.778371</td>\n",
              "      <td>1511.150651</td>\n",
              "      <td>206.298149</td>\n",
              "    </tr>\n",
              "    <tr>\n",
              "      <th>min</th>\n",
              "      <td>8.235100</td>\n",
              "      <td>-5.382632</td>\n",
              "      <td>12.988970</td>\n",
              "      <td>12.799550</td>\n",
              "      <td>12.431600</td>\n",
              "      <td>11.947210</td>\n",
              "      <td>11.610410</td>\n",
              "      <td>308.000000</td>\n",
              "      <td>301.0</td>\n",
              "      <td>1.000000</td>\n",
              "      <td>11.000000</td>\n",
              "      <td>-0.004136</td>\n",
              "      <td>266.000000</td>\n",
              "      <td>51578.000000</td>\n",
              "      <td>1.000000</td>\n",
              "    </tr>\n",
              "    <tr>\n",
              "      <th>25%</th>\n",
              "      <td>157.370946</td>\n",
              "      <td>-0.539035</td>\n",
              "      <td>18.178035</td>\n",
              "      <td>16.815100</td>\n",
              "      <td>16.173333</td>\n",
              "      <td>15.853705</td>\n",
              "      <td>15.618285</td>\n",
              "      <td>752.000000</td>\n",
              "      <td>301.0</td>\n",
              "      <td>2.000000</td>\n",
              "      <td>184.000000</td>\n",
              "      <td>0.000081</td>\n",
              "      <td>301.000000</td>\n",
              "      <td>51900.000000</td>\n",
              "      <td>186.750000</td>\n",
              "    </tr>\n",
              "    <tr>\n",
              "      <th>50%</th>\n",
              "      <td>180.394514</td>\n",
              "      <td>0.404166</td>\n",
              "      <td>18.853095</td>\n",
              "      <td>17.495135</td>\n",
              "      <td>16.858770</td>\n",
              "      <td>16.554985</td>\n",
              "      <td>16.389945</td>\n",
              "      <td>756.000000</td>\n",
              "      <td>301.0</td>\n",
              "      <td>4.000000</td>\n",
              "      <td>299.000000</td>\n",
              "      <td>0.042591</td>\n",
              "      <td>441.000000</td>\n",
              "      <td>51997.000000</td>\n",
              "      <td>351.000000</td>\n",
              "    </tr>\n",
              "    <tr>\n",
              "      <th>75%</th>\n",
              "      <td>201.547279</td>\n",
              "      <td>35.649397</td>\n",
              "      <td>19.259232</td>\n",
              "      <td>18.010145</td>\n",
              "      <td>17.512675</td>\n",
              "      <td>17.258550</td>\n",
              "      <td>17.141447</td>\n",
              "      <td>1331.000000</td>\n",
              "      <td>301.0</td>\n",
              "      <td>5.000000</td>\n",
              "      <td>414.000000</td>\n",
              "      <td>0.092579</td>\n",
              "      <td>2559.000000</td>\n",
              "      <td>54468.000000</td>\n",
              "      <td>510.000000</td>\n",
              "    </tr>\n",
              "    <tr>\n",
              "      <th>max</th>\n",
              "      <td>260.884382</td>\n",
              "      <td>68.542265</td>\n",
              "      <td>19.599900</td>\n",
              "      <td>19.918970</td>\n",
              "      <td>24.802040</td>\n",
              "      <td>28.179630</td>\n",
              "      <td>22.833060</td>\n",
              "      <td>1412.000000</td>\n",
              "      <td>301.0</td>\n",
              "      <td>6.000000</td>\n",
              "      <td>768.000000</td>\n",
              "      <td>5.353854</td>\n",
              "      <td>8410.000000</td>\n",
              "      <td>57481.000000</td>\n",
              "      <td>1000.000000</td>\n",
              "    </tr>\n",
              "  </tbody>\n",
              "</table>\n",
              "</div>"
            ],
            "text/plain": [
              "                 ra           dec  ...           mjd       fiberid\n",
              "count  10000.000000  10000.000000  ...  10000.000000  10000.000000\n",
              "mean     175.529987     14.836148  ...  52943.533300    353.069400\n",
              "std       47.783439     25.212207  ...   1511.150651    206.298149\n",
              "min        8.235100     -5.382632  ...  51578.000000      1.000000\n",
              "25%      157.370946     -0.539035  ...  51900.000000    186.750000\n",
              "50%      180.394514      0.404166  ...  51997.000000    351.000000\n",
              "75%      201.547279     35.649397  ...  54468.000000    510.000000\n",
              "max      260.884382     68.542265  ...  57481.000000   1000.000000\n",
              "\n",
              "[8 rows x 15 columns]"
            ]
          },
          "metadata": {
            "tags": []
          },
          "execution_count": 25
        }
      ]
    },
    {
      "cell_type": "code",
      "metadata": {
        "colab": {
          "base_uri": "https://localhost:8080/",
          "height": 878
        },
        "id": "RLHlSf3AFHz1",
        "outputId": "e32806f3-5b8f-46d6-fb58-cd579982870e"
      },
      "source": [
        "import matplotlib.pyplot as plt\n",
        "data.hist(bins=50, figsize=(20,15))\n",
        "plt.show()"
      ],
      "execution_count": null,
      "outputs": [
        {
          "output_type": "display_data",
          "data": {
            "image/png": "[encoded data removed]",
            "text/plain": [
              "<Figure size 1440x1080 with 16 Axes>"
            ]
          },
          "metadata": {
            "tags": [],
            "needs_background": "light"
          }
        }
      ]
    },
    {
      "cell_type": "markdown",
      "metadata": {
        "id": "xDuLG_HOdJpB"
      },
      "source": [
        "After dropping unuseful data from the dataset we look at the histogram of the dataset to see if there is values that are not useful."
      ]
    },
    {
      "cell_type": "code",
      "metadata": {
        "colab": {
          "base_uri": "https://localhost:8080/"
        },
        "id": "K7BWt7uIIp5h",
        "outputId": "e815cd2d-fd12-4a4e-eec6-c24bc0159b96"
      },
      "source": [
        "from sklearn.preprocessing import LabelEncoder\n",
        "\n",
        "le = LabelEncoder().fit(data['class'])\n",
        "data['class'] = le.transform(data['class'])\n",
        "data['class'].value_counts()"
      ],
      "execution_count": null,
      "outputs": [
        {
          "output_type": "execute_result",
          "data": {
            "text/plain": [
              "0    4998\n",
              "2    4152\n",
              "1     850\n",
              "Name: class, dtype: int64"
            ]
          },
          "metadata": {
            "tags": []
          },
          "execution_count": 27
        }
      ]
    },
    {
      "cell_type": "markdown",
      "metadata": {
        "id": "I3YKlfn1JT7P"
      },
      "source": [
        "Converts the class column and transforms \n",
        "galaxy as 0\n",
        "star as 2\n",
        "quasar as 1\n",
        "\n",
        "Since the data need to be numeric for the model to use."
      ]
    },
    {
      "cell_type": "code",
      "metadata": {
        "id": "nj7HPew_JfXt"
      },
      "source": [
        "newData = data.drop(\"class\", axis = 1)\n",
        "\n",
        "dataLabel = data['class']"
      ],
      "execution_count": null,
      "outputs": []
    },
    {
      "cell_type": "markdown",
      "metadata": {
        "id": "r8Zps_IdKXoX"
      },
      "source": [
        "drop the class column from the dataset to for model to train and keep the column as the results"
      ]
    },
    {
      "cell_type": "code",
      "metadata": {
        "colab": {
          "base_uri": "https://localhost:8080/"
        },
        "id": "LX6ESmPhKW53",
        "outputId": "be55dbb5-152a-4b09-b4b7-646de328fddd"
      },
      "source": [
        "from sklearn.preprocessing import StandardScaler\n",
        "scaler = StandardScaler(copy=True , with_mean= True , with_std = True)\n",
        "values= scaler.fit_transform(newData)\n",
        "\n",
        "values[0]"
      ],
      "execution_count": null,
      "outputs": [
        {
          "output_type": "execute_result",
          "data": {
            "text/plain": [
              "array([ 0.16745842, -0.58492272,  1.03148637, -0.34855938, -0.83728027,\n",
              "       -0.94605772, -0.99534154, -0.83806089,  0.        ,  0.21085172,\n",
              "       -0.21763043, -0.36973112,  1.03148936,  1.30931064,  0.66863177])"
            ]
          },
          "metadata": {
            "tags": []
          },
          "execution_count": 29
        }
      ]
    },
    {
      "cell_type": "markdown",
      "metadata": {
        "id": "I97_eOeBdq0m"
      },
      "source": [
        "Here we feature scale the data since the data had varying range of values we convert it into small ranges to accurately train the model"
      ]
    },
    {
      "cell_type": "code",
      "metadata": {
        "id": "htbDNhwpLRJ0"
      },
      "source": [
        "from sklearn.model_selection import train_test_split\n",
        "\n",
        "values_train, values_test, dataLabel_train, dataLabel_test = train_test_split(values, dataLabel, test_size=0.2, random_state=42)\n"
      ],
      "execution_count": null,
      "outputs": []
    },
    {
      "cell_type": "markdown",
      "metadata": {
        "id": "hwBiKh6Ud6HC"
      },
      "source": [
        "Here we split the test and training dataset for model to use"
      ]
    },
    {
      "cell_type": "code",
      "metadata": {
        "id": "KPPyTtRQM8KB",
        "colab": {
          "base_uri": "https://localhost:8080/"
        },
        "outputId": "f562de3e-89cc-40da-e87e-6f47c3a3dd4f"
      },
      "source": [
        "from sklearn.tree import DecisionTreeClassifier\n",
        "model = DecisionTreeClassifier()\n",
        "model.fit(values_train,dataLabel_train)"
      ],
      "execution_count": null,
      "outputs": [
        {
          "output_type": "execute_result",
          "data": {
            "text/plain": [
              "DecisionTreeClassifier(ccp_alpha=0.0, class_weight=None, criterion='gini',\n",
              "                       max_depth=None, max_features=None, max_leaf_nodes=None,\n",
              "                       min_impurity_decrease=0.0, min_impurity_split=None,\n",
              "                       min_samples_leaf=1, min_samples_split=2,\n",
              "                       min_weight_fraction_leaf=0.0, presort='deprecated',\n",
              "                       random_state=None, splitter='best')"
            ]
          },
          "metadata": {
            "tags": []
          },
          "execution_count": 31
        }
      ]
    },
    {
      "cell_type": "markdown",
      "metadata": {
        "id": "1F4FN6tfeAol"
      },
      "source": [
        "Here we make our model and train it using decision tree classifier"
      ]
    },
    {
      "cell_type": "code",
      "metadata": {
        "id": "NLQg-VXzPEOG"
      },
      "source": [
        "from sklearn.tree import export_graphviz\n",
        "\n",
        "export_graphviz(model, out_file=\"/content/sample_data/decisionTreeModel.dot\",\n",
        "                feature_names=newData.columns )"
      ],
      "execution_count": null,
      "outputs": []
    },
    {
      "cell_type": "markdown",
      "metadata": {
        "id": "JuUzR33XeKdT"
      },
      "source": [
        "We export the our model's graphical representation of decision tree to dot file to convert it into png "
      ]
    },
    {
      "cell_type": "code",
      "metadata": {
        "colab": {
          "base_uri": "https://localhost:8080/"
        },
        "id": "bxwZxrMNWK5r",
        "outputId": "81cff1a8-9c45-4140-c88a-f904bc98e257"
      },
      "source": [
        "prediction = model.predict(values_test)\n",
        "\n",
        "keys = dataLabel_test.keys()\n",
        "i=0\n",
        "correct=0\n",
        "wrong=0\n",
        "for x in keys:\n",
        "\n",
        "  if(prediction[i]== dataLabel_test[x]):\n",
        "    correct+=1\n",
        "  else:\n",
        "      wrong+=1\n",
        "  i+=1\n",
        "\n",
        "print(\"Correct prediction:\\t\" , correct , \"\\nWrong Prediction:\\t\" , wrong)"
      ],
      "execution_count": null,
      "outputs": [
        {
          "output_type": "stream",
          "text": [
            "Correct prediction:\t 1970 \n",
            "Wrong Prediction:\t 30\n"
          ],
          "name": "stdout"
        }
      ]
    },
    {
      "cell_type": "markdown",
      "metadata": {
        "id": "FiLqRCu9W6JQ"
      },
      "source": [
        "Here we can see that the decision tree classifier model works pretty well as it \n",
        "\n",
        "can predict the values accurately. Out of 2000 values tested using this model the model predicted 1970 correctly. The model predicted with 98.6% accuracy."
      ]
    }
  ]
}